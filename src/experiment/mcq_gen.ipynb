{
 "cells": [
  {
   "cell_type": "code",
   "execution_count": 7,
   "metadata": {},
   "outputs": [],
   "source": [
    "import os, json, traceback\n",
    "import pandas as pd\n",
    "from langchain_openai import OpenAI, ChatOpenAI\n",
    "from langchain.prompts import PromptTemplate\n",
    "from langchain_core.runnables import RunnableSequence, RunnableMap, RunnableLambda\n",
    "from langchain_core.output_parsers import StrOutputParser\n",
    "from langchain.chains import SequentialChain\n",
    "from langchain.callbacks import get_openai_callback\n",
    "from dotenv import load_dotenv\n",
    "import PyPDF2"
   ]
  },
  {
   "cell_type": "code",
   "execution_count": 8,
   "metadata": {},
   "outputs": [],
   "source": [
    "KEY = os.getenv(\"OPENAI_API_KEY\")\n",
    "llm = ChatOpenAI(\n",
    "    openai_api_key = KEY,\n",
    "    model_name = 'gpt-4o-mini',\n",
    "    temperature = 0.5\n",
    ")"
   ]
  },
  {
   "cell_type": "code",
   "execution_count": 9,
   "metadata": {},
   "outputs": [],
   "source": [
    "RESPONSE_JSON = {\n",
    "    \"1\": {\n",
    "        \"mcq\": \"multiple choice question\",\n",
    "        \"options\": {\n",
    "            \"a\": \"choice here\",\n",
    "            \"b\": \"choice here\",\n",
    "            \"c\": \"choice here\",\n",
    "            \"d\": \"choice here\",\n",
    "        },\n",
    "        \"correct\": \"correct answer\",\n",
    "    },\n",
    "    \"2\": {\n",
    "        \"mcq\": \"multiple choice question\",\n",
    "        \"options\": {\n",
    "            \"a\": \"choice here\",\n",
    "            \"b\": \"choice here\",\n",
    "            \"c\": \"choice here\",\n",
    "            \"d\": \"choice here\",\n",
    "        },\n",
    "        \"correct\": \"correct answer\",\n",
    "    },\n",
    "    \"3\": {\n",
    "        \"mcq\": \"multiple choice question\",\n",
    "        \"options\": {\n",
    "            \"a\": \"choice here\",\n",
    "            \"b\": \"choice here\",\n",
    "            \"c\": \"choice here\",\n",
    "            \"d\": \"choice here\",\n",
    "        },\n",
    "        \"correct\": \"correct answer\",\n",
    "    },\n",
    "}"
   ]
  },
  {
   "cell_type": "code",
   "execution_count": 10,
   "metadata": {},
   "outputs": [],
   "source": [
    "TEMPLATE_1 = \"\"\"\n",
    "Text:{text}\n",
    "You are an expert MCQ maker. Given the above text, it is your job to \\\n",
    "create a quiz  of {number} multiple choice questions for {subject} students in {tone} tone. \n",
    "Make sure the questions are not repeated and check all the questions to be conforming the text as well.\n",
    "Make sure to format your response like  RESPONSE_JSON below  and use it as a guide. \\\n",
    "Ensure to make {number} MCQs\n",
    "### RESPONSE_JSON\n",
    "{response_json}\n",
    "\"\"\""
   ]
  },
  {
   "cell_type": "code",
   "execution_count": 11,
   "metadata": {},
   "outputs": [
    {
     "data": {
      "text/plain": [
       "PromptTemplate(input_variables=['number', 'response_json', 'subject', 'text', 'tone'], input_types={}, partial_variables={}, template='\\nText:{text}\\nYou are an expert MCQ maker. Given the above text, it is your job to create a quiz  of {number} multiple choice questions for {subject} students in {tone} tone. \\nMake sure the questions are not repeated and check all the questions to be conforming the text as well.\\nMake sure to format your response like  RESPONSE_JSON below  and use it as a guide. Ensure to make {number} MCQs\\n### RESPONSE_JSON\\n{response_json}\\n')"
      ]
     },
     "execution_count": 11,
     "metadata": {},
     "output_type": "execute_result"
    }
   ],
   "source": [
    "quiz_generation_prompt = PromptTemplate(\n",
    "    input_variables = [\"text\", \"number\", \"subject\", \"tone\", \"response_json\"],\n",
    "    template = TEMPLATE_1\n",
    ")\n",
    "quiz_generation_prompt"
   ]
  },
  {
   "cell_type": "code",
   "execution_count": 12,
   "metadata": {},
   "outputs": [
    {
     "name": "stdout",
     "output_type": "stream",
     "text": [
      "first=PromptTemplate(input_variables=['number', 'response_json', 'subject', 'text', 'tone'], input_types={}, partial_variables={}, template='\\nText:{text}\\nYou are an expert MCQ maker. Given the above text, it is your job to create a quiz  of {number} multiple choice questions for {subject} students in {tone} tone. \\nMake sure the questions are not repeated and check all the questions to be conforming the text as well.\\nMake sure to format your response like  RESPONSE_JSON below  and use it as a guide. Ensure to make {number} MCQs\\n### RESPONSE_JSON\\n{response_json}\\n') middle=[ChatOpenAI(client=<openai.resources.chat.completions.Completions object at 0x15d684bc0>, async_client=<openai.resources.chat.completions.AsyncCompletions object at 0x16110d0a0>, root_client=<openai.OpenAI object at 0x15d684aa0>, root_async_client=<openai.AsyncOpenAI object at 0x1610ee0c0>, model_name='gpt-4o-mini', temperature=0.5, model_kwargs={}, openai_api_key=SecretStr('**********'))] last=StrOutputParser()\n"
     ]
    }
   ],
   "source": [
    "output_parser = StrOutputParser()\n",
    "quiz_chain = quiz_generation_prompt | llm | output_parser\n",
    "print(quiz_chain)"
   ]
  },
  {
   "cell_type": "code",
   "execution_count": 13,
   "metadata": {},
   "outputs": [],
   "source": [
    "TEMPLATE_2 = \"\"\"\n",
    "You are an expert english grammarian and writer. Given a Multiple Choice Quiz for {subject} students.\\\n",
    "You need to evaluate the complexity of the question and give a complete analysis of the quiz. Only use at max 50 words for complexity analysis. \n",
    "if the quiz is not at per with the cognitive and analytical abilities of the students,\\\n",
    "update the quiz questions which needs to be changed and change the tone such that it perfectly fits the student abilities\n",
    "Quiz_MCQs:\n",
    "# {quiz}\n",
    "\n",
    "Check from an expert English Writer of the above quiz:\n",
    "\"\"\""
   ]
  },
  {
   "cell_type": "code",
   "execution_count": 14,
   "metadata": {},
   "outputs": [
    {
     "data": {
      "text/plain": [
       "PromptTemplate(input_variables=['quiz', 'subject'], input_types={}, partial_variables={}, template='\\nYou are an expert english grammarian and writer. Given a Multiple Choice Quiz for {subject} students.You need to evaluate the complexity of the question and give a complete analysis of the quiz. Only use at max 50 words for complexity analysis. \\nif the quiz is not at per with the cognitive and analytical abilities of the students,update the quiz questions which needs to be changed and change the tone such that it perfectly fits the student abilities\\nQuiz_MCQs:\\n# {quiz}\\n\\nCheck from an expert English Writer of the above quiz:\\n')"
      ]
     },
     "execution_count": 14,
     "metadata": {},
     "output_type": "execute_result"
    }
   ],
   "source": [
    "quiz_evaluation_prompt = PromptTemplate(\n",
    "    input_variables = [\"subject\", \"quiz\"],\n",
    "    template = TEMPLATE_2\n",
    ")\n",
    "quiz_evaluation_prompt"
   ]
  },
  {
   "cell_type": "code",
   "execution_count": 27,
   "metadata": {},
   "outputs": [
    {
     "data": {
      "text/plain": [
       "PromptTemplate(input_variables=['quiz', 'subject'], input_types={}, partial_variables={}, template='\\nYou are an expert english grammarian and writer. Given a Multiple Choice Quiz for {subject} students.You need to evaluate the complexity of the question and give a complete analysis of the quiz. Only use at max 50 words for complexity analysis. \\nif the quiz is not at per with the cognitive and analytical abilities of the students,update the quiz questions which needs to be changed and change the tone such that it perfectly fits the student abilities\\nQuiz_MCQs:\\n# {quiz}\\n\\nCheck from an expert English Writer of the above quiz:\\n')\n",
       "| ChatOpenAI(client=<openai.resources.chat.completions.Completions object at 0x15d684bc0>, async_client=<openai.resources.chat.completions.AsyncCompletions object at 0x16110d0a0>, root_client=<openai.OpenAI object at 0x15d684aa0>, root_async_client=<openai.AsyncOpenAI object at 0x1610ee0c0>, model_name='gpt-4o-mini', temperature=0.5, model_kwargs={}, openai_api_key=SecretStr('**********'))\n",
       "| StrOutputParser()"
      ]
     },
     "execution_count": 27,
     "metadata": {},
     "output_type": "execute_result"
    }
   ],
   "source": [
    "review_chain = quiz_evaluation_prompt | llm | output_parser\n",
    "review_chain"
   ]
  },
  {
   "cell_type": "code",
   "execution_count": null,
   "metadata": {},
   "outputs": [
    {
     "data": {
      "text/plain": [
       "<bound method RunnableSequence.invoke of {\n",
       "  text: RunnableLambda(...),\n",
       "  number: RunnableLambda(...),\n",
       "  subject: RunnableLambda(...),\n",
       "  tone: RunnableLambda(...),\n",
       "  response_json: RunnableLambda(...),\n",
       "  quiz: RunnableLambda(...)\n",
       "}\n",
       "| PromptTemplate(input_variables=['number', 'response_json', 'subject', 'text', 'tone'], input_types={}, partial_variables={}, template='\\nText:{text}\\nYou are an expert MCQ maker. Given the above text, it is your job to create a quiz  of {number} multiple choice questions for {subject} students in {tone} tone. \\nMake sure the questions are not repeated and check all the questions to be conforming the text as well.\\nMake sure to format your response like  RESPONSE_JSON below  and use it as a guide. Ensure to make {number} MCQs\\n### RESPONSE_JSON\\n{response_json}\\n')\n",
       "  | ChatOpenAI(client=<openai.resources.chat.completions.Completions object at 0x15d684bc0>, async_client=<openai.resources.chat.completions.AsyncCompletions object at 0x16110d0a0>, root_client=<openai.OpenAI object at 0x15d684aa0>, root_async_client=<openai.AsyncOpenAI object at 0x1610ee0c0>, model_name='gpt-4o-mini', temperature=0.5, model_kwargs={}, openai_api_key=SecretStr('**********'))\n",
       "  | StrOutputParser()\n",
       "| {\n",
       "    subject: RunnableLambda(...),\n",
       "    quiz: RunnableLambda(...)\n",
       "  }\n",
       "| PromptTemplate(input_variables=['quiz', 'subject'], input_types={}, partial_variables={}, template='\\nYou are an expert english grammarian and writer. Given a Multiple Choice Quiz for {subject} students.You need to evaluate the complexity of the question and give a complete analysis of the quiz. Only use at max 50 words for complexity analysis. \\nif the quiz is not at per with the cognitive and analytical abilities of the students,update the quiz questions which needs to be changed and change the tone such that it perfectly fits the student abilities\\nQuiz_MCQs:\\n# {quiz}\\n\\nCheck from an expert English Writer of the above quiz:\\n')\n",
       "  | ChatOpenAI(client=<openai.resources.chat.completions.Completions object at 0x15d684bc0>, async_client=<openai.resources.chat.completions.AsyncCompletions object at 0x16110d0a0>, root_client=<openai.OpenAI object at 0x15d684aa0>, root_async_client=<openai.AsyncOpenAI object at 0x1610ee0c0>, model_name='gpt-4o-mini', temperature=0.5, model_kwargs={}, openai_api_key=SecretStr('**********'))\n",
       "  | StrOutputParser()>"
      ]
     },
     "execution_count": 28,
     "metadata": {},
     "output_type": "execute_result"
    }
   ],
   "source": [
    "generate_evaluate_chain = RunnableSequence(\n",
    "    first = RunnableMap({\n",
    "        \"text\": lambda inputs: inputs,\n",
    "        \"number\": lambda inputs: inputs,\n",
    "        \"subject\": lambda inputs: inputs,\n",
    "        \"tone\": lambda inputs: inputs,\n",
    "        \"response_json\": lambda inputs: inputs,\n",
    "        \"quiz\": lambda inputs: inputs\n",
    "    }),\n",
    "    middle = [\n",
    "        quiz_chain,\n",
    "        RunnableMap({\n",
    "            \"subject\": lambda inputs: inputs,\n",
    "            \"quiz\": lambda inputs: inputs\n",
    "        })\n",
    "    ],\n",
    "    last = review_chain,\n",
    "    name = \"generate_evaluate_chain\"\n",
    ")\n",
    "\n",
    "generate_evaluate_chain"
   ]
  },
  {
   "cell_type": "code",
   "execution_count": 17,
   "metadata": {},
   "outputs": [
    {
     "data": {
      "text/plain": [
       "'Data science is an interdisciplinary academic field[1] that uses statistics, scientific computing, scientific methods, processes, algorithms and systems to extract or extrapolate knowledge and insights from noisy, structured, and unstructured data.[2]\\n\\nData science also integrates domain knowledge from the underlying application domain (e.g., natural sciences, information technology, and medicine).[3] Data science is multifaceted and can be described as a science, a research paradigm, a research method, a discipline, a workflow, and a profession.[4]\\n\\nData science is a \"concept to unify statistics, data analysis, informatics, and their related methods\" to \"understand and analyze actual phenomena\" with data.[5] It uses techniques and theories drawn from many fields within the context of mathematics, statistics, computer science, information science, and domain knowledge.[6] However, data science is different from computer science and information science. Turing Award winner Jim Gray imagined data science as a \"fourth paradigm\" of science (empirical, theoretical, computational, and now data-driven) and asserted that \"everything about science is changing because of the impact of information technology\" and the data deluge.[7][8]\\n\\nA data scientist is a professional who creates programming code and combines it with statistical knowledge to create insights from data.[9]\\n\\nFoundations\\nData science is an interdisciplinary field[10] focused on extracting knowledge from typically large data sets and applying the knowledge and insights from that data to solve problems in a wide range of application domains. The field encompasses preparing data for analysis, formulating data science problems, analyzing data, developing data-driven solutions, and presenting findings to inform high-level decisions in a broad range of application domains. As such, it incorporates skills from computer science, statistics, information science, mathematics, data visualization, information visualization, data sonification, data integration, graphic design, complex systems, communication and business.[11][12] Statistician Nathan Yau, drawing on Ben Fry, also links data science to human–computer interaction: users should be able to intuitively control and explore data.[13][14] In 2015, the American Statistical Association identified database management, statistics and machine learning, and distributed and parallel systems as the three emerging foundational professional communities.[15]'"
      ]
     },
     "execution_count": 17,
     "metadata": {},
     "output_type": "execute_result"
    }
   ],
   "source": [
    "file_path = os.getenv(\"DATA_FILE_PATH\")\n",
    "\n",
    "with open(file_path, 'r') as file:\n",
    "    TEXT = file.read()\n",
    "\n",
    "TEXT"
   ]
  },
  {
   "cell_type": "code",
   "execution_count": 18,
   "metadata": {},
   "outputs": [
    {
     "data": {
      "text/plain": [
       "'{\"1\": {\"mcq\": \"multiple choice question\", \"options\": {\"a\": \"choice here\", \"b\": \"choice here\", \"c\": \"choice here\", \"d\": \"choice here\"}, \"correct\": \"correct answer\"}, \"2\": {\"mcq\": \"multiple choice question\", \"options\": {\"a\": \"choice here\", \"b\": \"choice here\", \"c\": \"choice here\", \"d\": \"choice here\"}, \"correct\": \"correct answer\"}, \"3\": {\"mcq\": \"multiple choice question\", \"options\": {\"a\": \"choice here\", \"b\": \"choice here\", \"c\": \"choice here\", \"d\": \"choice here\"}, \"correct\": \"correct answer\"}}'"
      ]
     },
     "execution_count": 18,
     "metadata": {},
     "output_type": "execute_result"
    }
   ],
   "source": [
    "json.dumps(RESPONSE_JSON)"
   ]
  },
  {
   "cell_type": "code",
   "execution_count": 19,
   "metadata": {},
   "outputs": [],
   "source": [
    "NUMBER = 5 \n",
    "SUBJECT = \"data science\"\n",
    "TONE = \"simple\""
   ]
  },
  {
   "cell_type": "code",
   "execution_count": 20,
   "metadata": {},
   "outputs": [
    {
     "name": "stdout",
     "output_type": "stream",
     "text": [
      "### Complexity Analysis\n",
      "The quiz questions are moderately complex, requiring comprehension of specific terminology and concepts in data science. They may challenge students who are new to the subject, particularly regarding paradigm classifications and domain knowledge integration.\n",
      "\n",
      "### Suggested Changes\n",
      "To better align with students' cognitive and analytical abilities, I recommend simplifying some questions for clarity and comprehension. Here are the revised questions:\n",
      "\n",
      "1. **What is the main goal of data science?**  \n",
      "   - a) To analyze data  \n",
      "   - b) To create games  \n",
      "   - c) To write stories  \n",
      "   - d) To build structures  \n",
      "   - **Correct:** a\n",
      "\n",
      "2. **Which field is NOT mentioned as part of data science?**  \n",
      "   - a) Natural sciences  \n",
      "   - b) Information technology  \n",
      "   - c) Medicine  \n",
      "   - d) Cooking  \n",
      "   - **Correct:** d\n",
      "\n",
      "3. **What does Jim Gray call data science?**  \n",
      "   - a) First type of science  \n",
      "   - b) Second type of science  \n",
      "   - c) Third type of science  \n",
      "   - d) Fourth type of science  \n",
      "   - **Correct:** d\n",
      "\n",
      "4. **What does a data scientist do?**  \n",
      "   - a) Only write code  \n",
      "   - b) Analyze data for insights  \n",
      "   - c) Manage files  \n",
      "   - d) Create images  \n",
      "   - **Correct:** b\n",
      "\n",
      "5. **Which area is part of data science's foundational community?**  \n",
      "   - a) Database management  \n",
      "   - b) Graphic design  \n",
      "   - c) Web design  \n",
      "   - d) Software creation  \n",
      "   - **Correct:** a\n",
      "\n",
      "### Tone Adjustment\n",
      "The tone has been adjusted to be more straightforward and relatable, ensuring that students can easily grasp the questions and respond confidently.\n"
     ]
    }
   ],
   "source": [
    "#https://python.langchain.com/docs/modules/model_io/llms/token_usage_tracking\n",
    "\n",
    "#Setup Token Usage Tracking in LangChain\n",
    "with get_openai_callback() as cb:\n",
    "    response = generate_evaluate_chain.invoke({\n",
    "        \"text\": TEXT,\n",
    "        \"number\": NUMBER,\n",
    "        \"subject\":SUBJECT,\n",
    "        \"tone\": TONE,\n",
    "        \"response_json\": json.dumps(RESPONSE_JSON),\n",
    "        \"quiz\": \"this is the quiz\"\n",
    "    })\n",
    "\n",
    "print(response)"
   ]
  },
  {
   "cell_type": "code",
   "execution_count": 21,
   "metadata": {},
   "outputs": [
    {
     "name": "stdout",
     "output_type": "stream",
     "text": [
      "Total Tokens:7115\n",
      "Prompt Tokens:5873\n",
      "Completion Tokens:1242\n",
      "Total Cost:0.0016261499999999998\n"
     ]
    }
   ],
   "source": [
    "print(f\"Total Tokens:{cb.total_tokens}\")\n",
    "print(f\"Prompt Tokens:{cb.prompt_tokens}\")\n",
    "print(f\"Completion Tokens:{cb.completion_tokens}\")\n",
    "print(f\"Total Cost:{cb.total_cost}\")"
   ]
  },
  {
   "cell_type": "code",
   "execution_count": 22,
   "metadata": {},
   "outputs": [
    {
     "ename": "AttributeError",
     "evalue": "'str' object has no attribute 'get'",
     "output_type": "error",
     "traceback": [
      "\u001b[0;31m---------------------------------------------------------------------------\u001b[0m",
      "\u001b[0;31mAttributeError\u001b[0m                            Traceback (most recent call last)",
      "Cell \u001b[0;32mIn[22], line 1\u001b[0m\n\u001b[0;32m----> 1\u001b[0m quiz_str \u001b[38;5;241m=\u001b[39m response\u001b[38;5;241m.\u001b[39mget(\u001b[38;5;124m\"\u001b[39m\u001b[38;5;124mquiz\u001b[39m\u001b[38;5;124m\"\u001b[39m)\n",
      "\u001b[0;31mAttributeError\u001b[0m: 'str' object has no attribute 'get'"
     ]
    }
   ],
   "source": [
    "quiz_str = response.get(\"quiz\")"
   ]
  },
  {
   "cell_type": "code",
   "execution_count": null,
   "metadata": {},
   "outputs": [],
   "source": []
  }
 ],
 "metadata": {
  "kernelspec": {
   "display_name": "env",
   "language": "python",
   "name": "python3"
  },
  "language_info": {
   "codemirror_mode": {
    "name": "ipython",
    "version": 3
   },
   "file_extension": ".py",
   "mimetype": "text/x-python",
   "name": "python",
   "nbconvert_exporter": "python",
   "pygments_lexer": "ipython3",
   "version": "3.12.7"
  }
 },
 "nbformat": 4,
 "nbformat_minor": 2
}
